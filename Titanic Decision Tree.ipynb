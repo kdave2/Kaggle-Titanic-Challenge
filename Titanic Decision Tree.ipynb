{
 "cells": [
  {
   "cell_type": "markdown",
   "metadata": {},
   "source": [
    "# Kaggle Titanic: Applying Decision Tree to predict Fatalities and Survivors\n",
    "\n",
    "In this program we will process the data, create Decision Tree, Perform Cross Validation and finally using Grid Search will obtain best depth for tree and obtain accuracies as well compare it with Decision Tree accuracy.\n",
    "\n",
    "## Importing required Libraries and Loading data"
   ]
  },
  {
   "cell_type": "code",
   "execution_count": 105,
   "metadata": {
    "collapsed": true
   },
   "outputs": [],
   "source": [
    "import os\n",
    "import subprocess\n",
    "import numpy as np\n",
    "import pandas as pd\n",
    "import math\n",
    "import matplotlib.patches as patches\n",
    "import matplotlib.pylab as plt\n",
    "from sklearn.tree import DecisionTreeClassifier, export_graphviz\n",
    "from sklearn import tree\n",
    "from sklearn import metrics\n",
    "from sklearn import datasets\n",
    "from IPython.display import Image\n",
    "from sklearn.grid_search import GridSearchCV\n",
    "from sklearn.grid_search import RandomizedSearchCV\n",
    "from sklearn.model_selection import train_test_split\n",
    "# from sklearn.cross_validation import  cross_val_score\n",
    "from time import time\n",
    "from operator import itemgetter\n",
    "\n",
    "%matplotlib inline"
   ]
  },
  {
   "cell_type": "code",
   "execution_count": 106,
   "metadata": {
    "collapsed": true
   },
   "outputs": [],
   "source": [
    "data = pd.read_csv('Titanic.csv',header='infer',parse_dates=True, infer_datetime_format=True);"
   ]
  },
  {
   "cell_type": "code",
   "execution_count": 107,
   "metadata": {},
   "outputs": [
    {
     "data": {
      "text/html": [
       "<div>\n",
       "<table border=\"1\" class=\"dataframe\">\n",
       "  <thead>\n",
       "    <tr style=\"text-align: right;\">\n",
       "      <th></th>\n",
       "      <th>Unnamed: 0</th>\n",
       "      <th>pclass</th>\n",
       "      <th>survived</th>\n",
       "      <th>name</th>\n",
       "      <th>sex</th>\n",
       "      <th>age</th>\n",
       "      <th>sibsp</th>\n",
       "      <th>parch</th>\n",
       "      <th>ticket</th>\n",
       "      <th>fare</th>\n",
       "      <th>cabin</th>\n",
       "      <th>embarked</th>\n",
       "      <th>boat</th>\n",
       "      <th>body</th>\n",
       "      <th>home.dest</th>\n",
       "    </tr>\n",
       "  </thead>\n",
       "  <tbody>\n",
       "    <tr>\n",
       "      <th>0</th>\n",
       "      <td>1</td>\n",
       "      <td>1st</td>\n",
       "      <td>1</td>\n",
       "      <td>Allen, Miss. Elisabeth Walton</td>\n",
       "      <td>female</td>\n",
       "      <td>29.0000</td>\n",
       "      <td>0</td>\n",
       "      <td>0</td>\n",
       "      <td>24160</td>\n",
       "      <td>211.337494</td>\n",
       "      <td>B5</td>\n",
       "      <td>Southampton</td>\n",
       "      <td>2</td>\n",
       "      <td>NaN</td>\n",
       "      <td>St Louis, MO</td>\n",
       "    </tr>\n",
       "    <tr>\n",
       "      <th>1</th>\n",
       "      <td>2</td>\n",
       "      <td>1st</td>\n",
       "      <td>1</td>\n",
       "      <td>Allison, Master. Hudson Trevor</td>\n",
       "      <td>male</td>\n",
       "      <td>0.9167</td>\n",
       "      <td>1</td>\n",
       "      <td>2</td>\n",
       "      <td>113781</td>\n",
       "      <td>151.550003</td>\n",
       "      <td>C22 C26</td>\n",
       "      <td>Southampton</td>\n",
       "      <td>11</td>\n",
       "      <td>NaN</td>\n",
       "      <td>Montreal, PQ / Chesterville, ON</td>\n",
       "    </tr>\n",
       "    <tr>\n",
       "      <th>2</th>\n",
       "      <td>3</td>\n",
       "      <td>1st</td>\n",
       "      <td>0</td>\n",
       "      <td>Allison, Miss. Helen Loraine</td>\n",
       "      <td>female</td>\n",
       "      <td>2.0000</td>\n",
       "      <td>1</td>\n",
       "      <td>2</td>\n",
       "      <td>113781</td>\n",
       "      <td>151.550003</td>\n",
       "      <td>C22 C26</td>\n",
       "      <td>Southampton</td>\n",
       "      <td>NaN</td>\n",
       "      <td>NaN</td>\n",
       "      <td>Montreal, PQ / Chesterville, ON</td>\n",
       "    </tr>\n",
       "  </tbody>\n",
       "</table>\n",
       "</div>"
      ],
      "text/plain": [
       "   Unnamed: 0 pclass  survived                            name     sex  \\\n",
       "0           1    1st         1   Allen, Miss. Elisabeth Walton  female   \n",
       "1           2    1st         1  Allison, Master. Hudson Trevor    male   \n",
       "2           3    1st         0    Allison, Miss. Helen Loraine  female   \n",
       "\n",
       "       age  sibsp  parch  ticket        fare    cabin     embarked boat  body  \\\n",
       "0  29.0000      0      0   24160  211.337494       B5  Southampton    2   NaN   \n",
       "1   0.9167      1      2  113781  151.550003  C22 C26  Southampton   11   NaN   \n",
       "2   2.0000      1      2  113781  151.550003  C22 C26  Southampton  NaN   NaN   \n",
       "\n",
       "                         home.dest  \n",
       "0                     St Louis, MO  \n",
       "1  Montreal, PQ / Chesterville, ON  \n",
       "2  Montreal, PQ / Chesterville, ON  "
      ]
     },
     "execution_count": 107,
     "metadata": {},
     "output_type": "execute_result"
    }
   ],
   "source": [
    "data.head(3)"
   ]
  },
  {
   "cell_type": "markdown",
   "metadata": {},
   "source": [
    "## Dropping data where age is not specified as it will not be helpful"
   ]
  },
  {
   "cell_type": "code",
   "execution_count": 108,
   "metadata": {
    "collapsed": true
   },
   "outputs": [],
   "source": [
    "data.dropna(axis=0, how='any')\n",
    "data_filtered = data[~np.isnan(data['age'])]"
   ]
  },
  {
   "cell_type": "code",
   "execution_count": 109,
   "metadata": {},
   "outputs": [
    {
     "data": {
      "text/html": [
       "<div>\n",
       "<table border=\"1\" class=\"dataframe\">\n",
       "  <thead>\n",
       "    <tr style=\"text-align: right;\">\n",
       "      <th></th>\n",
       "      <th>Unnamed: 0</th>\n",
       "      <th>survived</th>\n",
       "      <th>age</th>\n",
       "      <th>sibsp</th>\n",
       "      <th>parch</th>\n",
       "      <th>fare</th>\n",
       "      <th>body</th>\n",
       "    </tr>\n",
       "  </thead>\n",
       "  <tbody>\n",
       "    <tr>\n",
       "      <th>count</th>\n",
       "      <td>1046.000000</td>\n",
       "      <td>1046.000000</td>\n",
       "      <td>1046.000000</td>\n",
       "      <td>1046.000000</td>\n",
       "      <td>1046.00000</td>\n",
       "      <td>1045.000000</td>\n",
       "      <td>120.00000</td>\n",
       "    </tr>\n",
       "    <tr>\n",
       "      <th>mean</th>\n",
       "      <td>600.216061</td>\n",
       "      <td>0.408222</td>\n",
       "      <td>29.881135</td>\n",
       "      <td>0.502868</td>\n",
       "      <td>0.42065</td>\n",
       "      <td>36.686080</td>\n",
       "      <td>160.87500</td>\n",
       "    </tr>\n",
       "    <tr>\n",
       "      <th>std</th>\n",
       "      <td>364.657513</td>\n",
       "      <td>0.491740</td>\n",
       "      <td>14.413500</td>\n",
       "      <td>0.912167</td>\n",
       "      <td>0.83975</td>\n",
       "      <td>55.732534</td>\n",
       "      <td>98.10392</td>\n",
       "    </tr>\n",
       "    <tr>\n",
       "      <th>min</th>\n",
       "      <td>1.000000</td>\n",
       "      <td>0.000000</td>\n",
       "      <td>0.166700</td>\n",
       "      <td>0.000000</td>\n",
       "      <td>0.00000</td>\n",
       "      <td>0.000000</td>\n",
       "      <td>1.00000</td>\n",
       "    </tr>\n",
       "    <tr>\n",
       "      <th>25%</th>\n",
       "      <td>299.250000</td>\n",
       "      <td>0.000000</td>\n",
       "      <td>21.000000</td>\n",
       "      <td>0.000000</td>\n",
       "      <td>0.00000</td>\n",
       "      <td>8.050000</td>\n",
       "      <td>71.50000</td>\n",
       "    </tr>\n",
       "    <tr>\n",
       "      <th>50%</th>\n",
       "      <td>575.500000</td>\n",
       "      <td>0.000000</td>\n",
       "      <td>28.000000</td>\n",
       "      <td>0.000000</td>\n",
       "      <td>0.00000</td>\n",
       "      <td>15.750000</td>\n",
       "      <td>155.50000</td>\n",
       "    </tr>\n",
       "    <tr>\n",
       "      <th>75%</th>\n",
       "      <td>875.500000</td>\n",
       "      <td>1.000000</td>\n",
       "      <td>39.000000</td>\n",
       "      <td>1.000000</td>\n",
       "      <td>1.00000</td>\n",
       "      <td>35.500000</td>\n",
       "      <td>256.50000</td>\n",
       "    </tr>\n",
       "    <tr>\n",
       "      <th>max</th>\n",
       "      <td>1309.000000</td>\n",
       "      <td>1.000000</td>\n",
       "      <td>80.000000</td>\n",
       "      <td>8.000000</td>\n",
       "      <td>6.00000</td>\n",
       "      <td>512.329224</td>\n",
       "      <td>328.00000</td>\n",
       "    </tr>\n",
       "  </tbody>\n",
       "</table>\n",
       "</div>"
      ],
      "text/plain": [
       "        Unnamed: 0     survived          age        sibsp       parch  \\\n",
       "count  1046.000000  1046.000000  1046.000000  1046.000000  1046.00000   \n",
       "mean    600.216061     0.408222    29.881135     0.502868     0.42065   \n",
       "std     364.657513     0.491740    14.413500     0.912167     0.83975   \n",
       "min       1.000000     0.000000     0.166700     0.000000     0.00000   \n",
       "25%     299.250000     0.000000    21.000000     0.000000     0.00000   \n",
       "50%     575.500000     0.000000    28.000000     0.000000     0.00000   \n",
       "75%     875.500000     1.000000    39.000000     1.000000     1.00000   \n",
       "max    1309.000000     1.000000    80.000000     8.000000     6.00000   \n",
       "\n",
       "              fare       body  \n",
       "count  1045.000000  120.00000  \n",
       "mean     36.686080  160.87500  \n",
       "std      55.732534   98.10392  \n",
       "min       0.000000    1.00000  \n",
       "25%       8.050000   71.50000  \n",
       "50%      15.750000  155.50000  \n",
       "75%      35.500000  256.50000  \n",
       "max     512.329224  328.00000  "
      ]
     },
     "execution_count": 109,
     "metadata": {},
     "output_type": "execute_result"
    }
   ],
   "source": [
    "data_filtered.describe()"
   ]
  },
  {
   "cell_type": "code",
   "execution_count": 110,
   "metadata": {},
   "outputs": [
    {
     "data": {
      "text/html": [
       "<div>\n",
       "<table border=\"1\" class=\"dataframe\">\n",
       "  <thead>\n",
       "    <tr style=\"text-align: right;\">\n",
       "      <th></th>\n",
       "      <th>Unnamed: 0</th>\n",
       "      <th>survived</th>\n",
       "      <th>age</th>\n",
       "      <th>sibsp</th>\n",
       "      <th>parch</th>\n",
       "      <th>fare</th>\n",
       "      <th>body</th>\n",
       "    </tr>\n",
       "  </thead>\n",
       "  <tbody>\n",
       "    <tr>\n",
       "      <th>count</th>\n",
       "      <td>1309.000000</td>\n",
       "      <td>1309.000000</td>\n",
       "      <td>1046.000000</td>\n",
       "      <td>1309.000000</td>\n",
       "      <td>1309.000000</td>\n",
       "      <td>1308.000000</td>\n",
       "      <td>121.000000</td>\n",
       "    </tr>\n",
       "    <tr>\n",
       "      <th>mean</th>\n",
       "      <td>655.000000</td>\n",
       "      <td>0.381971</td>\n",
       "      <td>29.881135</td>\n",
       "      <td>0.498854</td>\n",
       "      <td>0.385027</td>\n",
       "      <td>33.295479</td>\n",
       "      <td>160.809917</td>\n",
       "    </tr>\n",
       "    <tr>\n",
       "      <th>std</th>\n",
       "      <td>378.020061</td>\n",
       "      <td>0.486055</td>\n",
       "      <td>14.413500</td>\n",
       "      <td>1.041658</td>\n",
       "      <td>0.865560</td>\n",
       "      <td>51.758669</td>\n",
       "      <td>97.696922</td>\n",
       "    </tr>\n",
       "    <tr>\n",
       "      <th>min</th>\n",
       "      <td>1.000000</td>\n",
       "      <td>0.000000</td>\n",
       "      <td>0.166700</td>\n",
       "      <td>0.000000</td>\n",
       "      <td>0.000000</td>\n",
       "      <td>0.000000</td>\n",
       "      <td>1.000000</td>\n",
       "    </tr>\n",
       "    <tr>\n",
       "      <th>25%</th>\n",
       "      <td>328.000000</td>\n",
       "      <td>0.000000</td>\n",
       "      <td>21.000000</td>\n",
       "      <td>0.000000</td>\n",
       "      <td>0.000000</td>\n",
       "      <td>7.895800</td>\n",
       "      <td>72.000000</td>\n",
       "    </tr>\n",
       "    <tr>\n",
       "      <th>50%</th>\n",
       "      <td>655.000000</td>\n",
       "      <td>0.000000</td>\n",
       "      <td>28.000000</td>\n",
       "      <td>0.000000</td>\n",
       "      <td>0.000000</td>\n",
       "      <td>14.454200</td>\n",
       "      <td>155.000000</td>\n",
       "    </tr>\n",
       "    <tr>\n",
       "      <th>75%</th>\n",
       "      <td>982.000000</td>\n",
       "      <td>1.000000</td>\n",
       "      <td>39.000000</td>\n",
       "      <td>1.000000</td>\n",
       "      <td>0.000000</td>\n",
       "      <td>31.275000</td>\n",
       "      <td>256.000000</td>\n",
       "    </tr>\n",
       "    <tr>\n",
       "      <th>max</th>\n",
       "      <td>1309.000000</td>\n",
       "      <td>1.000000</td>\n",
       "      <td>80.000000</td>\n",
       "      <td>8.000000</td>\n",
       "      <td>9.000000</td>\n",
       "      <td>512.329224</td>\n",
       "      <td>328.000000</td>\n",
       "    </tr>\n",
       "  </tbody>\n",
       "</table>\n",
       "</div>"
      ],
      "text/plain": [
       "        Unnamed: 0     survived          age        sibsp        parch  \\\n",
       "count  1309.000000  1309.000000  1046.000000  1309.000000  1309.000000   \n",
       "mean    655.000000     0.381971    29.881135     0.498854     0.385027   \n",
       "std     378.020061     0.486055    14.413500     1.041658     0.865560   \n",
       "min       1.000000     0.000000     0.166700     0.000000     0.000000   \n",
       "25%     328.000000     0.000000    21.000000     0.000000     0.000000   \n",
       "50%     655.000000     0.000000    28.000000     0.000000     0.000000   \n",
       "75%     982.000000     1.000000    39.000000     1.000000     0.000000   \n",
       "max    1309.000000     1.000000    80.000000     8.000000     9.000000   \n",
       "\n",
       "              fare        body  \n",
       "count  1308.000000  121.000000  \n",
       "mean     33.295479  160.809917  \n",
       "std      51.758669   97.696922  \n",
       "min       0.000000    1.000000  \n",
       "25%       7.895800   72.000000  \n",
       "50%      14.454200  155.000000  \n",
       "75%      31.275000  256.000000  \n",
       "max     512.329224  328.000000  "
      ]
     },
     "execution_count": 110,
     "metadata": {},
     "output_type": "execute_result"
    }
   ],
   "source": [
    "data.describe()"
   ]
  },
  {
   "cell_type": "code",
   "execution_count": 111,
   "metadata": {
    "collapsed": true
   },
   "outputs": [],
   "source": [
    "def sex_to_numeric(x):\n",
    "    if x=='female':\n",
    "        return 0\n",
    "    if x=='male':\n",
    "        return 1\n",
    "    "
   ]
  },
  {
   "cell_type": "markdown",
   "metadata": {},
   "source": [
    "## Converting Gender to boolean value 0 and 1 to make processing easy"
   ]
  },
  {
   "cell_type": "code",
   "execution_count": 112,
   "metadata": {},
   "outputs": [
    {
     "name": "stderr",
     "output_type": "stream",
     "text": [
      "/Users/khushalidave/anaconda/lib/python3.6/site-packages/ipykernel/__main__.py:1: SettingWithCopyWarning: \n",
      "A value is trying to be set on a copy of a slice from a DataFrame.\n",
      "Try using .loc[row_indexer,col_indexer] = value instead\n",
      "\n",
      "See the caveats in the documentation: http://pandas.pydata.org/pandas-docs/stable/indexing.html#indexing-view-versus-copy\n",
      "  if __name__ == '__main__':\n"
     ]
    }
   ],
   "source": [
    "data_filtered['sex'] = data_filtered['sex'].apply(sex_to_numeric)"
   ]
  },
  {
   "cell_type": "markdown",
   "metadata": {},
   "source": [
    "## This function converts string to integer for example: 1st to 1 which will make processing easy for attribute pclass which has values 1st , 2nd"
   ]
  },
  {
   "cell_type": "code",
   "execution_count": 113,
   "metadata": {
    "collapsed": true
   },
   "outputs": [],
   "source": [
    "def encode_target(df, target_column):\n",
    "    \"\"\"Add column to df with integers for the target.\n",
    "\n",
    "    Args\n",
    "    ----\n",
    "    df -- pandas DataFrame.\n",
    "    target_column -- column to map to int, producing\n",
    "                     new Target column.\n",
    "\n",
    "    Returns\n",
    "    -------\n",
    "    df_mod -- modified DataFrame.\n",
    "    targets -- list of target names.\n",
    "    \"\"\"\n",
    "    df_mod = df.copy()\n",
    "    targets = df_mod[target_column].unique()\n",
    "    map_to_int = {name: n for n, name in enumerate(targets)}\n",
    "    df_mod[\"Target\"] = df_mod[target_column].replace(map_to_int)\n",
    "\n",
    "    return (df_mod, targets)"
   ]
  },
  {
   "cell_type": "code",
   "execution_count": 114,
   "metadata": {
    "collapsed": true
   },
   "outputs": [],
   "source": [
    "df2, targets = encode_target(data_filtered, \"pclass\")"
   ]
  },
  {
   "cell_type": "code",
   "execution_count": 115,
   "metadata": {
    "collapsed": true
   },
   "outputs": [],
   "source": [
    "df2 = df2.drop([\"pclass\"],axis=1)"
   ]
  },
  {
   "cell_type": "code",
   "execution_count": 116,
   "metadata": {
    "collapsed": true
   },
   "outputs": [],
   "source": [
    "df2[\"pclass\"] = df2[\"Target\"]"
   ]
  },
  {
   "cell_type": "code",
   "execution_count": 117,
   "metadata": {},
   "outputs": [
    {
     "data": {
      "text/html": [
       "<div>\n",
       "<table border=\"1\" class=\"dataframe\">\n",
       "  <thead>\n",
       "    <tr style=\"text-align: right;\">\n",
       "      <th></th>\n",
       "      <th>Unnamed: 0</th>\n",
       "      <th>survived</th>\n",
       "      <th>name</th>\n",
       "      <th>sex</th>\n",
       "      <th>age</th>\n",
       "      <th>sibsp</th>\n",
       "      <th>parch</th>\n",
       "      <th>ticket</th>\n",
       "      <th>fare</th>\n",
       "      <th>cabin</th>\n",
       "      <th>embarked</th>\n",
       "      <th>boat</th>\n",
       "      <th>body</th>\n",
       "      <th>home.dest</th>\n",
       "      <th>Target</th>\n",
       "      <th>pclass</th>\n",
       "    </tr>\n",
       "  </thead>\n",
       "  <tbody>\n",
       "    <tr>\n",
       "      <th>1295</th>\n",
       "      <td>1296</td>\n",
       "      <td>0</td>\n",
       "      <td>Windelov, Mr. Einar</td>\n",
       "      <td>1</td>\n",
       "      <td>21.0</td>\n",
       "      <td>0</td>\n",
       "      <td>0</td>\n",
       "      <td>SOTON/OQ 3101317</td>\n",
       "      <td>7.2500</td>\n",
       "      <td>NaN</td>\n",
       "      <td>Southampton</td>\n",
       "      <td>NaN</td>\n",
       "      <td>NaN</td>\n",
       "      <td>NaN</td>\n",
       "      <td>2</td>\n",
       "      <td>2</td>\n",
       "    </tr>\n",
       "    <tr>\n",
       "      <th>1296</th>\n",
       "      <td>1297</td>\n",
       "      <td>0</td>\n",
       "      <td>Wirz, Mr. Albert</td>\n",
       "      <td>1</td>\n",
       "      <td>27.0</td>\n",
       "      <td>0</td>\n",
       "      <td>0</td>\n",
       "      <td>315154</td>\n",
       "      <td>8.6625</td>\n",
       "      <td>NaN</td>\n",
       "      <td>Southampton</td>\n",
       "      <td>NaN</td>\n",
       "      <td>131.0</td>\n",
       "      <td>NaN</td>\n",
       "      <td>2</td>\n",
       "      <td>2</td>\n",
       "    </tr>\n",
       "    <tr>\n",
       "      <th>1298</th>\n",
       "      <td>1299</td>\n",
       "      <td>0</td>\n",
       "      <td>Wittevrongel, Mr. Camille</td>\n",
       "      <td>1</td>\n",
       "      <td>36.0</td>\n",
       "      <td>0</td>\n",
       "      <td>0</td>\n",
       "      <td>345771</td>\n",
       "      <td>9.5000</td>\n",
       "      <td>NaN</td>\n",
       "      <td>Southampton</td>\n",
       "      <td>NaN</td>\n",
       "      <td>NaN</td>\n",
       "      <td>NaN</td>\n",
       "      <td>2</td>\n",
       "      <td>2</td>\n",
       "    </tr>\n",
       "    <tr>\n",
       "      <th>1299</th>\n",
       "      <td>1300</td>\n",
       "      <td>0</td>\n",
       "      <td>Yasbeck, Mr. Antoni</td>\n",
       "      <td>1</td>\n",
       "      <td>27.0</td>\n",
       "      <td>1</td>\n",
       "      <td>0</td>\n",
       "      <td>2659</td>\n",
       "      <td>14.4542</td>\n",
       "      <td>NaN</td>\n",
       "      <td>Cherbourg</td>\n",
       "      <td>C</td>\n",
       "      <td>NaN</td>\n",
       "      <td>NaN</td>\n",
       "      <td>2</td>\n",
       "      <td>2</td>\n",
       "    </tr>\n",
       "    <tr>\n",
       "      <th>1300</th>\n",
       "      <td>1301</td>\n",
       "      <td>1</td>\n",
       "      <td>Yasbeck, Mrs. Antoni (Selini Al</td>\n",
       "      <td>0</td>\n",
       "      <td>15.0</td>\n",
       "      <td>1</td>\n",
       "      <td>0</td>\n",
       "      <td>2659</td>\n",
       "      <td>14.4542</td>\n",
       "      <td>NaN</td>\n",
       "      <td>Cherbourg</td>\n",
       "      <td>NaN</td>\n",
       "      <td>NaN</td>\n",
       "      <td>NaN</td>\n",
       "      <td>2</td>\n",
       "      <td>2</td>\n",
       "    </tr>\n",
       "    <tr>\n",
       "      <th>1301</th>\n",
       "      <td>1302</td>\n",
       "      <td>0</td>\n",
       "      <td>Youseff, Mr. Gerious</td>\n",
       "      <td>1</td>\n",
       "      <td>45.5</td>\n",
       "      <td>0</td>\n",
       "      <td>0</td>\n",
       "      <td>2628</td>\n",
       "      <td>7.2250</td>\n",
       "      <td>NaN</td>\n",
       "      <td>Cherbourg</td>\n",
       "      <td>NaN</td>\n",
       "      <td>312.0</td>\n",
       "      <td>NaN</td>\n",
       "      <td>2</td>\n",
       "      <td>2</td>\n",
       "    </tr>\n",
       "    <tr>\n",
       "      <th>1304</th>\n",
       "      <td>1305</td>\n",
       "      <td>0</td>\n",
       "      <td>Zabour, Miss. Hileni</td>\n",
       "      <td>0</td>\n",
       "      <td>14.5</td>\n",
       "      <td>1</td>\n",
       "      <td>0</td>\n",
       "      <td>2665</td>\n",
       "      <td>14.4542</td>\n",
       "      <td>NaN</td>\n",
       "      <td>Cherbourg</td>\n",
       "      <td>NaN</td>\n",
       "      <td>328.0</td>\n",
       "      <td>NaN</td>\n",
       "      <td>2</td>\n",
       "      <td>2</td>\n",
       "    </tr>\n",
       "    <tr>\n",
       "      <th>1306</th>\n",
       "      <td>1307</td>\n",
       "      <td>0</td>\n",
       "      <td>Zakarian, Mr. Mapriededer</td>\n",
       "      <td>1</td>\n",
       "      <td>26.5</td>\n",
       "      <td>0</td>\n",
       "      <td>0</td>\n",
       "      <td>2656</td>\n",
       "      <td>7.2250</td>\n",
       "      <td>NaN</td>\n",
       "      <td>Cherbourg</td>\n",
       "      <td>NaN</td>\n",
       "      <td>304.0</td>\n",
       "      <td>NaN</td>\n",
       "      <td>2</td>\n",
       "      <td>2</td>\n",
       "    </tr>\n",
       "    <tr>\n",
       "      <th>1307</th>\n",
       "      <td>1308</td>\n",
       "      <td>0</td>\n",
       "      <td>Zakarian, Mr. Ortin</td>\n",
       "      <td>1</td>\n",
       "      <td>27.0</td>\n",
       "      <td>0</td>\n",
       "      <td>0</td>\n",
       "      <td>2670</td>\n",
       "      <td>7.2250</td>\n",
       "      <td>NaN</td>\n",
       "      <td>Cherbourg</td>\n",
       "      <td>NaN</td>\n",
       "      <td>NaN</td>\n",
       "      <td>NaN</td>\n",
       "      <td>2</td>\n",
       "      <td>2</td>\n",
       "    </tr>\n",
       "    <tr>\n",
       "      <th>1308</th>\n",
       "      <td>1309</td>\n",
       "      <td>0</td>\n",
       "      <td>Zimmerman, Mr. Leo</td>\n",
       "      <td>1</td>\n",
       "      <td>29.0</td>\n",
       "      <td>0</td>\n",
       "      <td>0</td>\n",
       "      <td>315082</td>\n",
       "      <td>7.8750</td>\n",
       "      <td>NaN</td>\n",
       "      <td>Southampton</td>\n",
       "      <td>NaN</td>\n",
       "      <td>NaN</td>\n",
       "      <td>NaN</td>\n",
       "      <td>2</td>\n",
       "      <td>2</td>\n",
       "    </tr>\n",
       "  </tbody>\n",
       "</table>\n",
       "</div>"
      ],
      "text/plain": [
       "      Unnamed: 0  survived                             name  sex   age  sibsp  \\\n",
       "1295        1296         0              Windelov, Mr. Einar    1  21.0      0   \n",
       "1296        1297         0                 Wirz, Mr. Albert    1  27.0      0   \n",
       "1298        1299         0        Wittevrongel, Mr. Camille    1  36.0      0   \n",
       "1299        1300         0              Yasbeck, Mr. Antoni    1  27.0      1   \n",
       "1300        1301         1  Yasbeck, Mrs. Antoni (Selini Al    0  15.0      1   \n",
       "1301        1302         0             Youseff, Mr. Gerious    1  45.5      0   \n",
       "1304        1305         0             Zabour, Miss. Hileni    0  14.5      1   \n",
       "1306        1307         0        Zakarian, Mr. Mapriededer    1  26.5      0   \n",
       "1307        1308         0              Zakarian, Mr. Ortin    1  27.0      0   \n",
       "1308        1309         0               Zimmerman, Mr. Leo    1  29.0      0   \n",
       "\n",
       "      parch            ticket     fare cabin     embarked boat   body  \\\n",
       "1295      0  SOTON/OQ 3101317   7.2500   NaN  Southampton  NaN    NaN   \n",
       "1296      0            315154   8.6625   NaN  Southampton  NaN  131.0   \n",
       "1298      0            345771   9.5000   NaN  Southampton  NaN    NaN   \n",
       "1299      0              2659  14.4542   NaN    Cherbourg    C    NaN   \n",
       "1300      0              2659  14.4542   NaN    Cherbourg  NaN    NaN   \n",
       "1301      0              2628   7.2250   NaN    Cherbourg  NaN  312.0   \n",
       "1304      0              2665  14.4542   NaN    Cherbourg  NaN  328.0   \n",
       "1306      0              2656   7.2250   NaN    Cherbourg  NaN  304.0   \n",
       "1307      0              2670   7.2250   NaN    Cherbourg  NaN    NaN   \n",
       "1308      0            315082   7.8750   NaN  Southampton  NaN    NaN   \n",
       "\n",
       "     home.dest  Target  pclass  \n",
       "1295       NaN       2       2  \n",
       "1296       NaN       2       2  \n",
       "1298       NaN       2       2  \n",
       "1299       NaN       2       2  \n",
       "1300       NaN       2       2  \n",
       "1301       NaN       2       2  \n",
       "1304       NaN       2       2  \n",
       "1306       NaN       2       2  \n",
       "1307       NaN       2       2  \n",
       "1308       NaN       2       2  "
      ]
     },
     "execution_count": 117,
     "metadata": {},
     "output_type": "execute_result"
    }
   ],
   "source": [
    "df2.tail(10)"
   ]
  },
  {
   "cell_type": "code",
   "execution_count": 118,
   "metadata": {},
   "outputs": [
    {
     "data": {
      "text/plain": [
       "Unnamed: 0    1046\n",
       "pclass        1046\n",
       "survived      1046\n",
       "name          1046\n",
       "sex           1046\n",
       "age           1046\n",
       "sibsp         1046\n",
       "parch         1046\n",
       "ticket        1046\n",
       "fare          1045\n",
       "cabin          272\n",
       "embarked      1044\n",
       "boat           417\n",
       "body           120\n",
       "home.dest      685\n",
       "dtype: int64"
      ]
     },
     "execution_count": 118,
     "metadata": {},
     "output_type": "execute_result"
    }
   ],
   "source": [
    "data_filtered.count()"
   ]
  },
  {
   "cell_type": "code",
   "execution_count": 119,
   "metadata": {},
   "outputs": [
    {
     "data": {
      "text/html": [
       "<div>\n",
       "<table border=\"1\" class=\"dataframe\">\n",
       "  <thead>\n",
       "    <tr style=\"text-align: right;\">\n",
       "      <th></th>\n",
       "      <th>Unnamed: 0</th>\n",
       "      <th>pclass</th>\n",
       "      <th>survived</th>\n",
       "      <th>name</th>\n",
       "      <th>sex</th>\n",
       "      <th>age</th>\n",
       "      <th>sibsp</th>\n",
       "      <th>parch</th>\n",
       "      <th>ticket</th>\n",
       "      <th>fare</th>\n",
       "      <th>cabin</th>\n",
       "      <th>embarked</th>\n",
       "      <th>boat</th>\n",
       "      <th>body</th>\n",
       "      <th>home.dest</th>\n",
       "    </tr>\n",
       "  </thead>\n",
       "  <tbody>\n",
       "    <tr>\n",
       "      <th>0</th>\n",
       "      <td>1</td>\n",
       "      <td>1st</td>\n",
       "      <td>1</td>\n",
       "      <td>Allen, Miss. Elisabeth Walton</td>\n",
       "      <td>0</td>\n",
       "      <td>29.0000</td>\n",
       "      <td>0</td>\n",
       "      <td>0</td>\n",
       "      <td>24160</td>\n",
       "      <td>211.337494</td>\n",
       "      <td>B5</td>\n",
       "      <td>Southampton</td>\n",
       "      <td>2</td>\n",
       "      <td>NaN</td>\n",
       "      <td>St Louis, MO</td>\n",
       "    </tr>\n",
       "    <tr>\n",
       "      <th>1</th>\n",
       "      <td>2</td>\n",
       "      <td>1st</td>\n",
       "      <td>1</td>\n",
       "      <td>Allison, Master. Hudson Trevor</td>\n",
       "      <td>1</td>\n",
       "      <td>0.9167</td>\n",
       "      <td>1</td>\n",
       "      <td>2</td>\n",
       "      <td>113781</td>\n",
       "      <td>151.550003</td>\n",
       "      <td>C22 C26</td>\n",
       "      <td>Southampton</td>\n",
       "      <td>11</td>\n",
       "      <td>NaN</td>\n",
       "      <td>Montreal, PQ / Chesterville, ON</td>\n",
       "    </tr>\n",
       "    <tr>\n",
       "      <th>2</th>\n",
       "      <td>3</td>\n",
       "      <td>1st</td>\n",
       "      <td>0</td>\n",
       "      <td>Allison, Miss. Helen Loraine</td>\n",
       "      <td>0</td>\n",
       "      <td>2.0000</td>\n",
       "      <td>1</td>\n",
       "      <td>2</td>\n",
       "      <td>113781</td>\n",
       "      <td>151.550003</td>\n",
       "      <td>C22 C26</td>\n",
       "      <td>Southampton</td>\n",
       "      <td>NaN</td>\n",
       "      <td>NaN</td>\n",
       "      <td>Montreal, PQ / Chesterville, ON</td>\n",
       "    </tr>\n",
       "    <tr>\n",
       "      <th>3</th>\n",
       "      <td>4</td>\n",
       "      <td>1st</td>\n",
       "      <td>0</td>\n",
       "      <td>Allison, Mr. Hudson Joshua Crei</td>\n",
       "      <td>1</td>\n",
       "      <td>30.0000</td>\n",
       "      <td>1</td>\n",
       "      <td>2</td>\n",
       "      <td>113781</td>\n",
       "      <td>151.550003</td>\n",
       "      <td>C22 C26</td>\n",
       "      <td>Southampton</td>\n",
       "      <td>NaN</td>\n",
       "      <td>135.0</td>\n",
       "      <td>Montreal, PQ / Chesterville, ON</td>\n",
       "    </tr>\n",
       "    <tr>\n",
       "      <th>4</th>\n",
       "      <td>5</td>\n",
       "      <td>1st</td>\n",
       "      <td>0</td>\n",
       "      <td>Allison, Mrs. Hudson J C (Bessi</td>\n",
       "      <td>0</td>\n",
       "      <td>25.0000</td>\n",
       "      <td>1</td>\n",
       "      <td>2</td>\n",
       "      <td>113781</td>\n",
       "      <td>151.550003</td>\n",
       "      <td>C22 C26</td>\n",
       "      <td>Southampton</td>\n",
       "      <td>NaN</td>\n",
       "      <td>NaN</td>\n",
       "      <td>Montreal, PQ / Chesterville, ON</td>\n",
       "    </tr>\n",
       "    <tr>\n",
       "      <th>5</th>\n",
       "      <td>6</td>\n",
       "      <td>1st</td>\n",
       "      <td>1</td>\n",
       "      <td>Anderson, Mr. Harry</td>\n",
       "      <td>1</td>\n",
       "      <td>48.0000</td>\n",
       "      <td>0</td>\n",
       "      <td>0</td>\n",
       "      <td>19952</td>\n",
       "      <td>26.549999</td>\n",
       "      <td>E12</td>\n",
       "      <td>Southampton</td>\n",
       "      <td>3</td>\n",
       "      <td>NaN</td>\n",
       "      <td>New York, NY</td>\n",
       "    </tr>\n",
       "    <tr>\n",
       "      <th>6</th>\n",
       "      <td>7</td>\n",
       "      <td>1st</td>\n",
       "      <td>1</td>\n",
       "      <td>Andrews, Miss. Kornelia Theodos</td>\n",
       "      <td>0</td>\n",
       "      <td>63.0000</td>\n",
       "      <td>1</td>\n",
       "      <td>0</td>\n",
       "      <td>13502</td>\n",
       "      <td>77.958298</td>\n",
       "      <td>D7</td>\n",
       "      <td>Southampton</td>\n",
       "      <td>10</td>\n",
       "      <td>NaN</td>\n",
       "      <td>Hudson, NY</td>\n",
       "    </tr>\n",
       "    <tr>\n",
       "      <th>7</th>\n",
       "      <td>8</td>\n",
       "      <td>1st</td>\n",
       "      <td>0</td>\n",
       "      <td>Andrews, Mr. Thomas Jr</td>\n",
       "      <td>1</td>\n",
       "      <td>39.0000</td>\n",
       "      <td>0</td>\n",
       "      <td>0</td>\n",
       "      <td>112050</td>\n",
       "      <td>0.000000</td>\n",
       "      <td>A36</td>\n",
       "      <td>Southampton</td>\n",
       "      <td>NaN</td>\n",
       "      <td>NaN</td>\n",
       "      <td>Belfast, NI</td>\n",
       "    </tr>\n",
       "    <tr>\n",
       "      <th>8</th>\n",
       "      <td>9</td>\n",
       "      <td>1st</td>\n",
       "      <td>1</td>\n",
       "      <td>Appleton, Mrs. Edward Dale (Cha</td>\n",
       "      <td>0</td>\n",
       "      <td>53.0000</td>\n",
       "      <td>2</td>\n",
       "      <td>0</td>\n",
       "      <td>11769</td>\n",
       "      <td>51.479198</td>\n",
       "      <td>C101</td>\n",
       "      <td>Southampton</td>\n",
       "      <td>D</td>\n",
       "      <td>NaN</td>\n",
       "      <td>Bayside, Queens, NY</td>\n",
       "    </tr>\n",
       "    <tr>\n",
       "      <th>9</th>\n",
       "      <td>10</td>\n",
       "      <td>1st</td>\n",
       "      <td>0</td>\n",
       "      <td>Artagaveytia, Mr. Ramon</td>\n",
       "      <td>1</td>\n",
       "      <td>71.0000</td>\n",
       "      <td>0</td>\n",
       "      <td>0</td>\n",
       "      <td>PC 17609</td>\n",
       "      <td>49.504200</td>\n",
       "      <td>NaN</td>\n",
       "      <td>Cherbourg</td>\n",
       "      <td>NaN</td>\n",
       "      <td>22.0</td>\n",
       "      <td>Montevideo, Uruguay</td>\n",
       "    </tr>\n",
       "  </tbody>\n",
       "</table>\n",
       "</div>"
      ],
      "text/plain": [
       "   Unnamed: 0 pclass  survived                             name  sex      age  \\\n",
       "0           1    1st         1    Allen, Miss. Elisabeth Walton    0  29.0000   \n",
       "1           2    1st         1   Allison, Master. Hudson Trevor    1   0.9167   \n",
       "2           3    1st         0     Allison, Miss. Helen Loraine    0   2.0000   \n",
       "3           4    1st         0  Allison, Mr. Hudson Joshua Crei    1  30.0000   \n",
       "4           5    1st         0  Allison, Mrs. Hudson J C (Bessi    0  25.0000   \n",
       "5           6    1st         1              Anderson, Mr. Harry    1  48.0000   \n",
       "6           7    1st         1  Andrews, Miss. Kornelia Theodos    0  63.0000   \n",
       "7           8    1st         0           Andrews, Mr. Thomas Jr    1  39.0000   \n",
       "8           9    1st         1  Appleton, Mrs. Edward Dale (Cha    0  53.0000   \n",
       "9          10    1st         0          Artagaveytia, Mr. Ramon    1  71.0000   \n",
       "\n",
       "   sibsp  parch    ticket        fare    cabin     embarked boat   body  \\\n",
       "0      0      0     24160  211.337494       B5  Southampton    2    NaN   \n",
       "1      1      2    113781  151.550003  C22 C26  Southampton   11    NaN   \n",
       "2      1      2    113781  151.550003  C22 C26  Southampton  NaN    NaN   \n",
       "3      1      2    113781  151.550003  C22 C26  Southampton  NaN  135.0   \n",
       "4      1      2    113781  151.550003  C22 C26  Southampton  NaN    NaN   \n",
       "5      0      0     19952   26.549999      E12  Southampton    3    NaN   \n",
       "6      1      0     13502   77.958298       D7  Southampton   10    NaN   \n",
       "7      0      0    112050    0.000000      A36  Southampton  NaN    NaN   \n",
       "8      2      0     11769   51.479198     C101  Southampton    D    NaN   \n",
       "9      0      0  PC 17609   49.504200      NaN    Cherbourg  NaN   22.0   \n",
       "\n",
       "                         home.dest  \n",
       "0                     St Louis, MO  \n",
       "1  Montreal, PQ / Chesterville, ON  \n",
       "2  Montreal, PQ / Chesterville, ON  \n",
       "3  Montreal, PQ / Chesterville, ON  \n",
       "4  Montreal, PQ / Chesterville, ON  \n",
       "5                     New York, NY  \n",
       "6                       Hudson, NY  \n",
       "7                      Belfast, NI  \n",
       "8              Bayside, Queens, NY  \n",
       "9              Montevideo, Uruguay  "
      ]
     },
     "execution_count": 119,
     "metadata": {},
     "output_type": "execute_result"
    }
   ],
   "source": [
    "data_filtered.head(10)"
   ]
  },
  {
   "cell_type": "markdown",
   "metadata": {},
   "source": [
    "## Selecting independent variables ‘pclass + sex + age + sibsp’ to predict"
   ]
  },
  {
   "cell_type": "code",
   "execution_count": 120,
   "metadata": {
    "collapsed": true
   },
   "outputs": [],
   "source": [
    "X = df2[['pclass','sex','age','sibsp']]"
   ]
  },
  {
   "cell_type": "code",
   "execution_count": 121,
   "metadata": {
    "collapsed": true
   },
   "outputs": [],
   "source": [
    "Y = df2['survived']"
   ]
  },
  {
   "cell_type": "markdown",
   "metadata": {},
   "source": [
    "## Dividing the training and the testing data in 60-40 ratio"
   ]
  },
  {
   "cell_type": "code",
   "execution_count": 122,
   "metadata": {
    "collapsed": true
   },
   "outputs": [],
   "source": [
    "X_train, X_test, Y_train, Y_test = train_test_split(X, Y, train_size=.60)"
   ]
  },
  {
   "cell_type": "code",
   "execution_count": 123,
   "metadata": {},
   "outputs": [
    {
     "data": {
      "text/html": [
       "<div>\n",
       "<table border=\"1\" class=\"dataframe\">\n",
       "  <thead>\n",
       "    <tr style=\"text-align: right;\">\n",
       "      <th></th>\n",
       "      <th>pclass</th>\n",
       "      <th>sex</th>\n",
       "      <th>age</th>\n",
       "      <th>sibsp</th>\n",
       "    </tr>\n",
       "  </thead>\n",
       "  <tbody>\n",
       "    <tr>\n",
       "      <th>515</th>\n",
       "      <td>1</td>\n",
       "      <td>1</td>\n",
       "      <td>3.0</td>\n",
       "      <td>1</td>\n",
       "    </tr>\n",
       "    <tr>\n",
       "      <th>1106</th>\n",
       "      <td>2</td>\n",
       "      <td>0</td>\n",
       "      <td>41.0</td>\n",
       "      <td>0</td>\n",
       "    </tr>\n",
       "    <tr>\n",
       "      <th>546</th>\n",
       "      <td>1</td>\n",
       "      <td>0</td>\n",
       "      <td>28.0</td>\n",
       "      <td>0</td>\n",
       "    </tr>\n",
       "    <tr>\n",
       "      <th>778</th>\n",
       "      <td>2</td>\n",
       "      <td>0</td>\n",
       "      <td>30.0</td>\n",
       "      <td>0</td>\n",
       "    </tr>\n",
       "    <tr>\n",
       "      <th>369</th>\n",
       "      <td>1</td>\n",
       "      <td>0</td>\n",
       "      <td>29.0</td>\n",
       "      <td>1</td>\n",
       "    </tr>\n",
       "    <tr>\n",
       "      <th>314</th>\n",
       "      <td>0</td>\n",
       "      <td>0</td>\n",
       "      <td>50.0</td>\n",
       "      <td>1</td>\n",
       "    </tr>\n",
       "    <tr>\n",
       "      <th>567</th>\n",
       "      <td>1</td>\n",
       "      <td>1</td>\n",
       "      <td>25.0</td>\n",
       "      <td>0</td>\n",
       "    </tr>\n",
       "    <tr>\n",
       "      <th>326</th>\n",
       "      <td>1</td>\n",
       "      <td>1</td>\n",
       "      <td>18.0</td>\n",
       "      <td>0</td>\n",
       "    </tr>\n",
       "    <tr>\n",
       "      <th>439</th>\n",
       "      <td>1</td>\n",
       "      <td>1</td>\n",
       "      <td>49.0</td>\n",
       "      <td>1</td>\n",
       "    </tr>\n",
       "    <tr>\n",
       "      <th>259</th>\n",
       "      <td>0</td>\n",
       "      <td>1</td>\n",
       "      <td>34.0</td>\n",
       "      <td>0</td>\n",
       "    </tr>\n",
       "  </tbody>\n",
       "</table>\n",
       "</div>"
      ],
      "text/plain": [
       "      pclass  sex   age  sibsp\n",
       "515        1    1   3.0      1\n",
       "1106       2    0  41.0      0\n",
       "546        1    0  28.0      0\n",
       "778        2    0  30.0      0\n",
       "369        1    0  29.0      1\n",
       "314        0    0  50.0      1\n",
       "567        1    1  25.0      0\n",
       "326        1    1  18.0      0\n",
       "439        1    1  49.0      1\n",
       "259        0    1  34.0      0"
      ]
     },
     "execution_count": 123,
     "metadata": {},
     "output_type": "execute_result"
    }
   ],
   "source": [
    "X_train.head(10)"
   ]
  },
  {
   "cell_type": "code",
   "execution_count": 124,
   "metadata": {
    "collapsed": true
   },
   "outputs": [],
   "source": [
    "# A function that gives a visual representation of the decision tree\n",
    "\n",
    "# def Decision_Tree_Image(decision_tree, feature_names, name=\"gem\"):\n",
    "    \n",
    "#     # Export our decision tree to graphviz format\n",
    "#     dot_file = export_graphviz(decision_tree.tree_, out_file='images/' + name + '.dot', feature_names=feature_names)\n",
    "    \n",
    "#     # Call graphviz to make an image file from our decision tree\n",
    "#     os.system(\"dot -T png images/\" + name + \".dot -o images/\" + name + \".png\")\n",
    "    \n",
    "#     # Return the .png image so we can see it\n",
    "#     return Image(filename='images/' + name + '.png')\n",
    "\n",
    "\n",
    "\n",
    "\n",
    "# A function to plot the data\n",
    "\n",
    "def Plot_Data(data, v1, v2, tv):\n",
    "    # Make the plot square\n",
    "    plt.rcParams['figure.figsize'] = [12.0, 8.0]\n",
    "    \n",
    "    # Color\n",
    "    color = [\"red\" if x == 0 else \"blue\" for x in data[tv]]\n",
    "    \n",
    "    # Plot and label\n",
    "    plt.scatter(data[v1], data[v2], c=color, s=50)\n",
    "    plt.xlabel(v1)\n",
    "    plt.ylabel(v2)\n",
    "    plt.xlim([min(data[v1]) , max(data[v1]) ])\n",
    "    plt.ylim([min(data[v2]) , max(data[v2]) ])"
   ]
  },
  {
   "cell_type": "code",
   "execution_count": 125,
   "metadata": {
    "collapsed": true
   },
   "outputs": [],
   "source": [
    "def visualize_tree(tree, feature_names):\n",
    "    \"\"\"Create tree png using graphviz.\n",
    "\n",
    "    Args\n",
    "    ----\n",
    "    tree -- scikit-learn DecsisionTree.\n",
    "    feature_names -- list of feature names.\n",
    "    \"\"\"\n",
    "    with open(\"dt.dot\", 'w') as f:\n",
    "        export_graphviz(tree, out_file=f,\n",
    "                        feature_names=feature_names)\n",
    "\n",
    "    command = [\"dot\", \"-Tpng\", \"dt.dot\", \"-o\", \"dt.png\"]\n",
    "    try:\n",
    "        subprocess.check_call(command)\n",
    "    except:\n",
    "        exit(\"Could not run dot, ie graphviz, to \"\n",
    "             \"produce visualization\")"
   ]
  },
  {
   "cell_type": "markdown",
   "metadata": {},
   "source": [
    "### Fittting a decision tree model using independent variables ‘pclass + sex + age + sibsp’ and dependent variable ‘survived’ and plotting the full decision tree generated"
   ]
  },
  {
   "cell_type": "code",
   "execution_count": 126,
   "metadata": {
    "collapsed": true
   },
   "outputs": [],
   "source": [
    "# Fitting model\n",
    "decision_tree = DecisionTreeClassifier(criterion=\"entropy\")\n",
    "\n"
   ]
  },
  {
   "cell_type": "code",
   "execution_count": 127,
   "metadata": {},
   "outputs": [
    {
     "data": {
      "text/plain": [
       "DecisionTreeClassifier(class_weight=None, criterion='entropy', max_depth=None,\n",
       "            max_features=None, max_leaf_nodes=None,\n",
       "            min_impurity_split=1e-07, min_samples_leaf=1,\n",
       "            min_samples_split=2, min_weight_fraction_leaf=0.0,\n",
       "            presort=False, random_state=None, splitter='best')"
      ]
     },
     "execution_count": 127,
     "metadata": {},
     "output_type": "execute_result"
    }
   ],
   "source": [
    "# Let's tell the model what is the data\n",
    "decision_tree.fit(X_train, Y_train)\n",
    "\n",
    "\n",
    "\n"
   ]
  },
  {
   "cell_type": "code",
   "execution_count": 128,
   "metadata": {
    "collapsed": true
   },
   "outputs": [],
   "source": [
    "visualize_tree(decision_tree, X.columns)"
   ]
  },
  {
   "cell_type": "code",
   "execution_count": 129,
   "metadata": {
    "collapsed": true
   },
   "outputs": [],
   "source": [
    "in_sample = pd.DataFrame(list(zip(decision_tree.predict(X_train), Y_train)), columns=['predicted', 'actual'])"
   ]
  },
  {
   "cell_type": "markdown",
   "metadata": {},
   "source": [
    "## Calculating Accuracies for Fatalities and Survivors"
   ]
  },
  {
   "cell_type": "code",
   "execution_count": 130,
   "metadata": {},
   "outputs": [
    {
     "name": "stdout",
     "output_type": "stream",
     "text": [
      "total_survivor == 243.000\n",
      "total_survivor_success == 192.000\n",
      "in_sample_survivor_accuracy == 0.790\n"
     ]
    }
   ],
   "source": [
    "in_sample_survivor = in_sample[in_sample.actual == 1]\n",
    "total_survivor = in_sample_survivor.count().actual\n",
    "print(\"total_survivor == %.3f\" %total_survivor)\n",
    "\n",
    "in_sample_survivor_success = in_sample_survivor[in_sample_survivor.predicted == 1]\n",
    "total_survivor_success = in_sample_survivor_success.count().actual\n",
    "print(\"total_survivor_success == %.3f\" %total_survivor_success)\n",
    "\n",
    "in_sample_survivor_accuracy = total_survivor_success/ total_survivor\n",
    "print(\"in_sample_survivor_accuracy == %.3f\" %in_sample_survivor_accuracy )"
   ]
  },
  {
   "cell_type": "code",
   "execution_count": 131,
   "metadata": {},
   "outputs": [
    {
     "name": "stdout",
     "output_type": "stream",
     "text": [
      "total_fatalities == 384.000\n",
      "total_fatalities_success == 377.000\n",
      "in_sample_fatalities_accuracy == 0.982\n"
     ]
    }
   ],
   "source": [
    "in_sample_fatalities = in_sample[in_sample.actual == 0]\n",
    "total_fatalities = in_sample_fatalities.count().actual\n",
    "print(\"total_fatalities == %.3f\" %total_fatalities)\n",
    "\n",
    "in_sample_fatalities_success = in_sample_fatalities[in_sample_fatalities.predicted == 0]\n",
    "total_fatalities_success = in_sample_fatalities_success.count().actual\n",
    "print(\"total_fatalities_success == %.3f\" %total_fatalities_success)\n",
    "\n",
    "in_sample_fatalities_accuracy = total_fatalities_success/ total_fatalities\n",
    "print(\"in_sample_fatalities_accuracy == %.3f\" %in_sample_fatalities_accuracy )"
   ]
  },
  {
   "cell_type": "code",
   "execution_count": 132,
   "metadata": {
    "collapsed": true
   },
   "outputs": [],
   "source": [
    "# Out sample accuracy\n",
    "\n",
    "out_sample = pd.DataFrame(list(zip(decision_tree.predict(X_test), Y_test)), columns=['predicted', 'actual'])"
   ]
  },
  {
   "cell_type": "code",
   "execution_count": 133,
   "metadata": {},
   "outputs": [
    {
     "name": "stdout",
     "output_type": "stream",
     "text": [
      "out-total_survivors == 184.000\n",
      "out_total_survivors_success == 113.000\n",
      "out_sample_survivors_accuracy == 0.614\n"
     ]
    }
   ],
   "source": [
    "out_sample_survivors = out_sample[out_sample.actual == 1]\n",
    "out_total_survivors = out_sample_survivors.count().actual\n",
    "print(\"out-total_survivors == %.3f\" %out_total_survivors)\n",
    "\n",
    "out_sample_survivors_success = out_sample_survivors[out_sample_survivors.predicted == 1]\n",
    "out_total_survivors_success = out_sample_survivors_success.count().predicted\n",
    "print(\"out_total_survivors_success == %.3f\" %out_total_survivors_success)\n",
    "\n",
    "out_sample_survivors_accuracy = out_total_survivors_success/ out_total_survivors\n",
    "print(\"out_sample_survivors_accuracy == %.3f\" %out_sample_survivors_accuracy )"
   ]
  },
  {
   "cell_type": "code",
   "execution_count": 134,
   "metadata": {},
   "outputs": [
    {
     "name": "stdout",
     "output_type": "stream",
     "text": [
      "out-total_fatalities == 235.000\n",
      "out_total_fatalities_success == 197.000\n",
      "out_sample_fatalities_accuracy == 0.838\n"
     ]
    }
   ],
   "source": [
    "out_sample_fatalities = out_sample[out_sample.actual == 0]\n",
    "out_total_fatalities = out_sample_fatalities.count().actual\n",
    "print(\"out-total_fatalities == %.3f\" %out_total_fatalities)\n",
    "\n",
    "out_sample_fatalities_success = out_sample_fatalities[out_sample_fatalities.predicted == 0]\n",
    "out_total_fatalities_success = out_sample_fatalities_success.count().actual\n",
    "print(\"out_total_fatalities_success == %.3f\" %out_total_fatalities_success)\n",
    "\n",
    "out_sample_fatalities_accuracy = out_total_fatalities_success/ out_total_fatalities\n",
    "print(\"out_sample_fatalities_accuracy == %.3f\" %out_sample_fatalities_accuracy )"
   ]
  },
  {
   "cell_type": "code",
   "execution_count": 135,
   "metadata": {
    "collapsed": true
   },
   "outputs": [],
   "source": [
    "def report(grid_scores, n_top=3):\n",
    "    \"\"\"Report top n_top parameters settings, default n_top=3.\n",
    "\n",
    "    Args\n",
    "    ----\n",
    "    grid_scores -- output from grid or random search\n",
    "    n_top -- how many to report, of top models\n",
    "\n",
    "    Returns\n",
    "    -------\n",
    "    top_params -- [dict] top parameter settings found in\n",
    "                  search\n",
    "    \"\"\"\n",
    "    accuracies = [];\n",
    "    max_leaf_nodes = [];\n",
    "    top_scores = sorted(grid_scores,\n",
    "                        key=itemgetter(1),\n",
    "                        reverse=True)[:n_top]\n",
    "    for i, score in enumerate(top_scores):\n",
    "        accuracies.append(score.mean_validation_score);\n",
    "        max_leaf_nodes.append(score.parameters['max_leaf_nodes'])\n",
    "        print(\"Model with rank: {0}\".format(i + 1))\n",
    "        print((\"Mean validation score: \"\n",
    "               \"{0:.3f} (std: {1:.3f})\").format(\n",
    "               score.mean_validation_score,\n",
    "               np.std(score.cv_validation_scores)))\n",
    "        print(\"Parameters: {0}\".format(score.parameters))\n",
    "        print(\"\")\n",
    "        \n",
    "#         accuracies = []\n",
    "    \n",
    "    max_leaf_nodes_numerical = [0 if v is None else v for v in max_leaf_nodes]\n",
    "    miss_classified = []\n",
    "    for val in accuracies:\n",
    "        miss_classified.append((1-val)* (data_filtered.count().survived))\n",
    "    # Make the plot square\n",
    "    plt.rcParams['figure.figsize'] = [12.0, 8.0]\n",
    "    \n",
    "    # Color\n",
    "#     color = [\"red\" if x == 0 else \"blue\" for x in data[tv]]\n",
    "    \n",
    "    # Plot and label\n",
    "    plt.scatter(max_leaf_nodes_numerical, miss_classified, s=50)\n",
    "    plt.xlabel(\"max_leaf_nodes\")\n",
    "    plt.ylabel(\"miss_classified\")\n",
    "    plt.xlim([0 , max(max_leaf_nodes_numerical) + 2 ])\n",
    "    plt.ylim([min(miss_classified) - 20 , max(miss_classified) + 20 ])\n",
    "    plt.show()\n",
    "    \n",
    "    print(miss_classified)\n",
    "    print(max_leaf_nodes)\n",
    "\n",
    "    return top_scores[0].parameters"
   ]
  },
  {
   "cell_type": "code",
   "execution_count": 136,
   "metadata": {
    "collapsed": true
   },
   "outputs": [],
   "source": [
    "def run_gridsearch(X, y, clf, param_grid, cv=5):\n",
    "    \"\"\"Run a grid search for best Decision Tree parameters.\n",
    "\n",
    "    Args\n",
    "    ----\n",
    "    X -- features\n",
    "    y -- targets (classes)\n",
    "    cf -- scikit-learn Decision Tree\n",
    "    param_grid -- [dict] parameter settings to test\n",
    "    cv -- fold of cross-validation, default 5\n",
    "\n",
    "    Returns\n",
    "    -------\n",
    "    top_params -- [dict] from report()\n",
    "    \"\"\"\n",
    "    grid_search = GridSearchCV(clf,\n",
    "                               param_grid=param_grid,\n",
    "                               cv=cv)\n",
    "    start = time()\n",
    "    grid_search.fit(X, y)\n",
    "\n",
    "    print((\"\\nGridSearchCV took {:.2f} \"\n",
    "           \"seconds for {:d} candidate \"\n",
    "           \"parameter settings.\").format(time() - start,\n",
    "                len(grid_search.grid_scores_)))\n",
    "\n",
    "    top_params = report(grid_search.grid_scores_, 9)\n",
    "    return  top_params"
   ]
  },
  {
   "cell_type": "markdown",
   "metadata": {},
   "source": [
    "### Using cross‐validation to find the best parameter to prune the tree and plotting a graph with the ‘tree size’ as the x-axis and ‘number of misclassification’ as the Y-axis. Alongwith that finding the minimum number of misclassification and opting for the corresponding tree size to prune the tree. "
   ]
  },
  {
   "cell_type": "code",
   "execution_count": 137,
   "metadata": {},
   "outputs": [
    {
     "name": "stdout",
     "output_type": "stream",
     "text": [
      "\n",
      "GridSearchCV took 0.95 seconds for 9 candidate parameter settings.\n",
      "Model with rank: 1\n",
      "Mean validation score: 0.771 (std: 0.098)\n",
      "Parameters: {'criterion': 'entropy', 'max_leaf_nodes': 6}\n",
      "\n",
      "Model with rank: 2\n",
      "Mean validation score: 0.753 (std: 0.106)\n",
      "Parameters: {'criterion': 'entropy', 'max_leaf_nodes': 3}\n",
      "\n",
      "Model with rank: 3\n",
      "Mean validation score: 0.753 (std: 0.118)\n",
      "Parameters: {'criterion': 'entropy', 'max_leaf_nodes': 5}\n",
      "\n",
      "Model with rank: 4\n",
      "Mean validation score: 0.747 (std: 0.116)\n",
      "Parameters: {'criterion': 'entropy', 'max_leaf_nodes': 4}\n",
      "\n",
      "Model with rank: 5\n",
      "Mean validation score: 0.735 (std: 0.126)\n",
      "Parameters: {'criterion': 'entropy', 'max_leaf_nodes': 7}\n",
      "\n",
      "Model with rank: 6\n",
      "Mean validation score: 0.728 (std: 0.120)\n",
      "Parameters: {'criterion': 'entropy', 'max_leaf_nodes': 8}\n",
      "\n",
      "Model with rank: 7\n",
      "Mean validation score: 0.728 (std: 0.120)\n",
      "Parameters: {'criterion': 'entropy', 'max_leaf_nodes': 9}\n",
      "\n",
      "Model with rank: 8\n",
      "Mean validation score: 0.725 (std: 0.121)\n",
      "Parameters: {'criterion': 'entropy', 'max_leaf_nodes': 10}\n",
      "\n",
      "Model with rank: 9\n",
      "Mean validation score: 0.723 (std: 0.089)\n",
      "Parameters: {'criterion': 'entropy', 'max_leaf_nodes': None}\n",
      "\n"
     ]
    },
    {
     "data": {
      "image/png": "[encoded data removed]",
      "text/plain": [
       "<matplotlib.figure.Figure at 0x119827c88>"
      ]
     },
     "metadata": {},
     "output_type": "display_data"
    },
    {
     "name": "stdout",
     "output_type": "stream",
     "text": [
      "[239.99999999999997, 258.00000000000006, 258.00000000000006, 264.99999999999994, 277.0, 285.0, 285.0, 288.0, 290.0]\n",
      "[6, 3, 5, 4, 7, 8, 9, 10, None]\n"
     ]
    }
   ],
   "source": [
    "# set of parameters to test\n",
    "param_grid = {\"criterion\": [\"entropy\"],\n",
    "              \n",
    "              \"max_leaf_nodes\": [None,3,4,5,6,7,8,9,10],\n",
    "              }\n",
    "\n",
    "dt = DecisionTreeClassifier()\n",
    "ts_gs = run_gridsearch(X, Y, dt, param_grid, cv=10)"
   ]
  },
  {
   "cell_type": "code",
   "execution_count": 138,
   "metadata": {
    "collapsed": true
   },
   "outputs": [],
   "source": [
    "# At max_leaf = 6 the acuracie is the highest 0.771 . \n",
    "# This is obtained by 10 fold cross validation."
   ]
  },
  {
   "cell_type": "code",
   "execution_count": 139,
   "metadata": {
    "collapsed": true
   },
   "outputs": [],
   "source": [
    "# Fitting model\n",
    "prune_decision_tree = DecisionTreeClassifier(max_leaf_nodes=6,criterion=\"entropy\")"
   ]
  },
  {
   "cell_type": "markdown",
   "metadata": {},
   "source": [
    "## Plotting the pruned tree and getting the accuracies of pruned treee"
   ]
  },
  {
   "cell_type": "code",
   "execution_count": 140,
   "metadata": {
    "collapsed": true
   },
   "outputs": [],
   "source": [
    "prune_decision_tree.fit(X_train, Y_train)\n",
    "visualize_tree(prune_decision_tree, X.columns)"
   ]
  },
  {
   "cell_type": "code",
   "execution_count": 141,
   "metadata": {
    "collapsed": true
   },
   "outputs": [],
   "source": [
    "in_sample = pd.DataFrame(list(zip(prune_decision_tree.predict(X_train), Y_train)), columns=['predicted', 'actual'])\n",
    "out_sample = pd.DataFrame(list(zip(prune_decision_tree.predict(X_test), Y_test)), columns=['predicted', 'actual'])"
   ]
  },
  {
   "cell_type": "code",
   "execution_count": 142,
   "metadata": {},
   "outputs": [
    {
     "name": "stdout",
     "output_type": "stream",
     "text": [
      "total_survivor == 243.000\n",
      "total_survivor_success == 130.000\n",
      "in_sample_survivor_accuracy == 0.535\n"
     ]
    }
   ],
   "source": [
    "in_sample_survivor = in_sample[in_sample.actual == 1]\n",
    "total_survivor = in_sample_survivor.count().actual\n",
    "print(\"total_survivor == %.3f\" %total_survivor)\n",
    "\n",
    "in_sample_survivor_success = in_sample_survivor[in_sample_survivor.predicted == 1]\n",
    "total_survivor_success = in_sample_survivor_success.count().actual\n",
    "print(\"total_survivor_success == %.3f\" %total_survivor_success)\n",
    "\n",
    "in_sample_survivor_accuracy = total_survivor_success/ total_survivor\n",
    "print(\"in_sample_survivor_accuracy == %.3f\" %in_sample_survivor_accuracy )"
   ]
  },
  {
   "cell_type": "code",
   "execution_count": 143,
   "metadata": {},
   "outputs": [
    {
     "name": "stdout",
     "output_type": "stream",
     "text": [
      "total_fatalities == 384.000\n",
      "total_fatalities_success == 371.000\n",
      "in_sample_fatalities_accuracy == 0.966\n"
     ]
    }
   ],
   "source": [
    "in_sample_fatalities = in_sample[in_sample.actual == 0]\n",
    "total_fatalities = in_sample_fatalities.count().actual\n",
    "print(\"total_fatalities == %.3f\" %total_fatalities)\n",
    "\n",
    "in_sample_fatalities_success = in_sample_fatalities[in_sample_fatalities.predicted == 0]\n",
    "total_fatalities_success = in_sample_fatalities_success.count().actual\n",
    "print(\"total_fatalities_success == %.3f\" %total_fatalities_success)\n",
    "\n",
    "in_sample_fatalities_accuracy = total_fatalities_success/ total_fatalities\n",
    "print(\"in_sample_fatalities_accuracy == %.3f\" %in_sample_fatalities_accuracy )"
   ]
  },
  {
   "cell_type": "code",
   "execution_count": 144,
   "metadata": {},
   "outputs": [
    {
     "name": "stdout",
     "output_type": "stream",
     "text": [
      "out-total_survivors == 184.000\n",
      "out_total_survivors_success == 105.000\n",
      "out_sample_survivors_accuracy == 0.571\n"
     ]
    }
   ],
   "source": [
    "out_sample_survivors = out_sample[out_sample.actual == 1]\n",
    "out_total_survivors = out_sample_survivors.count().actual\n",
    "print(\"out-total_survivors == %.3f\" %out_total_survivors)\n",
    "\n",
    "out_sample_survivors_success = out_sample_survivors[out_sample_survivors.predicted == 1]\n",
    "out_total_survivors_success = out_sample_survivors_success.count().predicted\n",
    "print(\"out_total_survivors_success == %.3f\" %out_total_survivors_success)\n",
    "\n",
    "out_sample_survivors_accuracy = out_total_survivors_success/ out_total_survivors\n",
    "print(\"out_sample_survivors_accuracy == %.3f\" %out_sample_survivors_accuracy )"
   ]
  },
  {
   "cell_type": "code",
   "execution_count": 145,
   "metadata": {},
   "outputs": [
    {
     "name": "stdout",
     "output_type": "stream",
     "text": [
      "out-total_fatalities == 235.000\n",
      "out_total_fatalities_success == 225.000\n",
      "out_sample_fatalities_accuracy == 0.957\n"
     ]
    }
   ],
   "source": [
    "out_sample_fatalities = out_sample[out_sample.actual == 0]\n",
    "out_total_fatalities = out_sample_fatalities.count().actual\n",
    "print(\"out-total_fatalities == %.3f\" %out_total_fatalities)\n",
    "\n",
    "out_sample_fatalities_success = out_sample_fatalities[out_sample_fatalities.predicted == 0]\n",
    "out_total_fatalities_success = out_sample_fatalities_success.count().actual\n",
    "print(\"out_total_fatalities_success == %.3f\" %out_total_fatalities_success)\n",
    "\n",
    "out_sample_fatalities_accuracy = out_total_fatalities_success/ out_total_fatalities\n",
    "print(\"out_sample_fatalities_accuracy == %.3f\" %out_sample_fatalities_accuracy )"
   ]
  },
  {
   "cell_type": "code",
   "execution_count": 146,
   "metadata": {
    "collapsed": true
   },
   "outputs": [],
   "source": [
    "# Comparison:\n",
    "\n",
    "# Without Pruning\n",
    "# out_sample_fatalities_accuracy == 0.819 , out_sample_survivors_accuracy == 0.648\n",
    "# in_sample_fatalities_accuracy == 0.967 , in_sample_survivor_accuracy == 0.859\n",
    "\n",
    "\n",
    "# After pruning \n",
    "# out_sample_fatalities_accuracy == 0.965 , out_sample_survivors_accuracy == 0.521\n",
    "# in_sample_fatalities_accuracy == 0.973 , in_sample_survivor_accuracy == 0.603\n",
    "\n",
    "\n",
    "#  After pruning in and out sample survivor accuracy has gone down but fatalities acuracy has gone up.\n",
    "\n"
   ]
  },
  {
   "cell_type": "code",
   "execution_count": null,
   "metadata": {
    "collapsed": true
   },
   "outputs": [],
   "source": []
  }
 ],
 "metadata": {
  "kernelspec": {
   "display_name": "Python 3",
   "language": "python",
   "name": "python3"
  },
  "language_info": {
   "codemirror_mode": {
    "name": "ipython",
    "version": 3
   },
   "file_extension": ".py",
   "mimetype": "text/x-python",
   "name": "python",
   "nbconvert_exporter": "python",
   "pygments_lexer": "ipython3",
   "version": "3.6.3"
  }
 },
 "nbformat": 4,
 "nbformat_minor": 2
}
